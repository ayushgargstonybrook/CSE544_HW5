{
  "nbformat": 4,
  "nbformat_minor": 0,
  "metadata": {
    "colab": {
      "name": "Mini_project(walds test).ipynb",
      "version": "0.3.2",
      "provenance": []
    },
    "kernelspec": {
      "name": "python3",
      "display_name": "Python 3"
    }
  },
  "cells": [
    {
      "metadata": {
        "id": "3xfjK8KEtVCT",
        "colab_type": "code",
        "colab": {}
      },
      "cell_type": "code",
      "source": [
        "import numpy as np\n",
        "import pandas as pd"
      ],
      "execution_count": 0,
      "outputs": []
    },
    {
      "metadata": {
        "id": "scfVMT_4upFq",
        "colab_type": "code",
        "colab": {
          "base_uri": "https://localhost:8080/",
          "height": 122
        },
        "outputId": "f4646260-eaaa-4850-d487-6566653b421f"
      },
      "cell_type": "code",
      "source": [
        "from google.colab import drive\n",
        "drive.mount('/content/drive/')"
      ],
      "execution_count": 4,
      "outputs": [
        {
          "output_type": "stream",
          "text": [
            "Go to this URL in a browser: https://accounts.google.com/o/oauth2/auth?client_id=947318989803-6bn6qk8qdgf4n4g3pfee6491hc0brc4i.apps.googleusercontent.com&redirect_uri=urn%3Aietf%3Awg%3Aoauth%3A2.0%3Aoob&scope=email%20https%3A%2F%2Fwww.googleapis.com%2Fauth%2Fdocs.test%20https%3A%2F%2Fwww.googleapis.com%2Fauth%2Fdrive%20https%3A%2F%2Fwww.googleapis.com%2Fauth%2Fdrive.photos.readonly%20https%3A%2F%2Fwww.googleapis.com%2Fauth%2Fpeopleapi.readonly&response_type=code\n",
            "\n",
            "Enter your authorization code:\n",
            "··········\n",
            "Mounted at /content/drive/\n"
          ],
          "name": "stdout"
        }
      ]
    },
    {
      "metadata": {
        "id": "vUE5yJG-thm_",
        "colab_type": "code",
        "colab": {
          "base_uri": "https://localhost:8080/",
          "height": 71
        },
        "outputId": "4dfa1bc7-f3e1-43ca-b782-bc8743d6125f"
      },
      "cell_type": "code",
      "source": [
        "#Read the data\n",
        "df=pd.read_csv('/content/drive/My Drive/Master_Loan_Summary.csv')"
      ],
      "execution_count": 7,
      "outputs": [
        {
          "output_type": "stream",
          "text": [
            "/usr/local/lib/python3.6/dist-packages/IPython/core/interactiveshell.py:2718: DtypeWarning: Columns (7) have mixed types. Specify dtype option on import or set low_memory=False.\n",
            "  interactivity=interactivity, compiler=compiler, result=result)\n"
          ],
          "name": "stderr"
        }
      ]
    },
    {
      "metadata": {
        "id": "pwGAuH_EuaAU",
        "colab_type": "code",
        "colab": {
          "base_uri": "https://localhost:8080/",
          "height": 224
        },
        "outputId": "b720b923-23ff-4c61-b623-c9815733cac9"
      },
      "cell_type": "code",
      "source": [
        "#visualise the data\n",
        "df.head()"
      ],
      "execution_count": 8,
      "outputs": [
        {
          "output_type": "execute_result",
          "data": {
            "text/html": [
              "<div>\n",
              "<style scoped>\n",
              "    .dataframe tbody tr th:only-of-type {\n",
              "        vertical-align: middle;\n",
              "    }\n",
              "\n",
              "    .dataframe tbody tr th {\n",
              "        vertical-align: top;\n",
              "    }\n",
              "\n",
              "    .dataframe thead th {\n",
              "        text-align: right;\n",
              "    }\n",
              "</style>\n",
              "<table border=\"1\" class=\"dataframe\">\n",
              "  <thead>\n",
              "    <tr style=\"text-align: right;\">\n",
              "      <th></th>\n",
              "      <th>loan_number</th>\n",
              "      <th>amount_borrowed</th>\n",
              "      <th>term</th>\n",
              "      <th>borrower_rate</th>\n",
              "      <th>installment</th>\n",
              "      <th>grade</th>\n",
              "      <th>origination_date</th>\n",
              "      <th>listing_title</th>\n",
              "      <th>principal_balance</th>\n",
              "      <th>principal_paid</th>\n",
              "      <th>interest_paid</th>\n",
              "      <th>late_fees_paid</th>\n",
              "      <th>debt_sale_proceeds_received</th>\n",
              "      <th>last_payment_date</th>\n",
              "      <th>next_payment_due_date</th>\n",
              "      <th>days_past_due</th>\n",
              "      <th>loan_status_description</th>\n",
              "      <th>data_source</th>\n",
              "    </tr>\n",
              "  </thead>\n",
              "  <tbody>\n",
              "    <tr>\n",
              "      <th>0</th>\n",
              "      <td>10149342</td>\n",
              "      <td>27050.0</td>\n",
              "      <td>36</td>\n",
              "      <td>0.1099</td>\n",
              "      <td>885.46</td>\n",
              "      <td>B</td>\n",
              "      <td>2013-12-01T00:00</td>\n",
              "      <td>debt_consolidation</td>\n",
              "      <td>0.0</td>\n",
              "      <td>27050.0</td>\n",
              "      <td>4702.53</td>\n",
              "      <td>0.0</td>\n",
              "      <td>0.0</td>\n",
              "      <td>2016-07-01T00:00</td>\n",
              "      <td>2016-08-01T00:00</td>\n",
              "      <td>0</td>\n",
              "      <td>COMPLETED</td>\n",
              "      <td>Lending Club</td>\n",
              "    </tr>\n",
              "    <tr>\n",
              "      <th>1</th>\n",
              "      <td>10149488</td>\n",
              "      <td>4800.0</td>\n",
              "      <td>36</td>\n",
              "      <td>0.1099</td>\n",
              "      <td>157.13</td>\n",
              "      <td>B</td>\n",
              "      <td>2013-12-01T00:00</td>\n",
              "      <td>home_improvement</td>\n",
              "      <td>0.0</td>\n",
              "      <td>4800.0</td>\n",
              "      <td>357.52</td>\n",
              "      <td>0.0</td>\n",
              "      <td>0.0</td>\n",
              "      <td>2014-09-01T00:00</td>\n",
              "      <td>2014-10-01T00:00</td>\n",
              "      <td>0</td>\n",
              "      <td>COMPLETED</td>\n",
              "      <td>Lending Club</td>\n",
              "    </tr>\n",
              "    <tr>\n",
              "      <th>2</th>\n",
              "      <td>10148122</td>\n",
              "      <td>12000.0</td>\n",
              "      <td>36</td>\n",
              "      <td>0.0762</td>\n",
              "      <td>373.94</td>\n",
              "      <td>A</td>\n",
              "      <td>2013-12-01T00:00</td>\n",
              "      <td>debt_consolidation</td>\n",
              "      <td>0.0</td>\n",
              "      <td>12000.0</td>\n",
              "      <td>1397.54</td>\n",
              "      <td>0.0</td>\n",
              "      <td>0.0</td>\n",
              "      <td>2016-06-01T00:00</td>\n",
              "      <td>2016-07-01T00:00</td>\n",
              "      <td>0</td>\n",
              "      <td>COMPLETED</td>\n",
              "      <td>Lending Club</td>\n",
              "    </tr>\n",
              "    <tr>\n",
              "      <th>3</th>\n",
              "      <td>10119623</td>\n",
              "      <td>12000.0</td>\n",
              "      <td>36</td>\n",
              "      <td>0.1199</td>\n",
              "      <td>398.52</td>\n",
              "      <td>B</td>\n",
              "      <td>2013-12-01T00:00</td>\n",
              "      <td>debt_consolidation</td>\n",
              "      <td>0.0</td>\n",
              "      <td>12000.0</td>\n",
              "      <td>2346.48</td>\n",
              "      <td>0.0</td>\n",
              "      <td>0.0</td>\n",
              "      <td>2017-01-01T00:00</td>\n",
              "      <td>2017-02-01T00:00</td>\n",
              "      <td>0</td>\n",
              "      <td>COMPLETED</td>\n",
              "      <td>Lending Club</td>\n",
              "    </tr>\n",
              "    <tr>\n",
              "      <th>4</th>\n",
              "      <td>10159498</td>\n",
              "      <td>12000.0</td>\n",
              "      <td>36</td>\n",
              "      <td>0.0662</td>\n",
              "      <td>368.45</td>\n",
              "      <td>A</td>\n",
              "      <td>2013-12-01T00:00</td>\n",
              "      <td>debt_consolidation</td>\n",
              "      <td>0.0</td>\n",
              "      <td>12000.0</td>\n",
              "      <td>1263.95</td>\n",
              "      <td>0.0</td>\n",
              "      <td>0.0</td>\n",
              "      <td>2017-01-01T00:00</td>\n",
              "      <td>2017-02-01T00:00</td>\n",
              "      <td>0</td>\n",
              "      <td>COMPLETED</td>\n",
              "      <td>Lending Club</td>\n",
              "    </tr>\n",
              "  </tbody>\n",
              "</table>\n",
              "</div>"
            ],
            "text/plain": [
              "   loan_number  amount_borrowed  term  borrower_rate  installment grade  \\\n",
              "0     10149342          27050.0    36         0.1099       885.46     B   \n",
              "1     10149488           4800.0    36         0.1099       157.13     B   \n",
              "2     10148122          12000.0    36         0.0762       373.94     A   \n",
              "3     10119623          12000.0    36         0.1199       398.52     B   \n",
              "4     10159498          12000.0    36         0.0662       368.45     A   \n",
              "\n",
              "   origination_date       listing_title  principal_balance  principal_paid  \\\n",
              "0  2013-12-01T00:00  debt_consolidation                0.0         27050.0   \n",
              "1  2013-12-01T00:00    home_improvement                0.0          4800.0   \n",
              "2  2013-12-01T00:00  debt_consolidation                0.0         12000.0   \n",
              "3  2013-12-01T00:00  debt_consolidation                0.0         12000.0   \n",
              "4  2013-12-01T00:00  debt_consolidation                0.0         12000.0   \n",
              "\n",
              "   interest_paid  late_fees_paid  debt_sale_proceeds_received  \\\n",
              "0        4702.53             0.0                          0.0   \n",
              "1         357.52             0.0                          0.0   \n",
              "2        1397.54             0.0                          0.0   \n",
              "3        2346.48             0.0                          0.0   \n",
              "4        1263.95             0.0                          0.0   \n",
              "\n",
              "  last_payment_date next_payment_due_date  days_past_due  \\\n",
              "0  2016-07-01T00:00      2016-08-01T00:00              0   \n",
              "1  2014-09-01T00:00      2014-10-01T00:00              0   \n",
              "2  2016-06-01T00:00      2016-07-01T00:00              0   \n",
              "3  2017-01-01T00:00      2017-02-01T00:00              0   \n",
              "4  2017-01-01T00:00      2017-02-01T00:00              0   \n",
              "\n",
              "  loan_status_description   data_source  \n",
              "0               COMPLETED  Lending Club  \n",
              "1               COMPLETED  Lending Club  \n",
              "2               COMPLETED  Lending Club  \n",
              "3               COMPLETED  Lending Club  \n",
              "4               COMPLETED  Lending Club  "
            ]
          },
          "metadata": {
            "tags": []
          },
          "execution_count": 8
        }
      ]
    },
    {
      "metadata": {
        "id": "e2HB130Du9dh",
        "colab_type": "code",
        "colab": {}
      },
      "cell_type": "code",
      "source": [
        "l=[] #list of borrower rates when #installments<300\n",
        "g=[] #list of borrower rates when #installments>300\n",
        "for i in range(len(df)):\n",
        "  if df.iloc[i]['installment']<300:\n",
        "    l.append(df.iloc[i]['borrower_rate'])\n",
        "  else:\n",
        "    g.append(df.iloc[i]['borrower_rate'])"
      ],
      "execution_count": 0,
      "outputs": []
    },
    {
      "metadata": {
        "id": "0OHt9WJdwY0z",
        "colab_type": "code",
        "colab": {}
      },
      "cell_type": "code",
      "source": [
        "import math\n",
        "p1_hat=sum(l)/float(len(l)) #sample mean of borrower rates when #installments<300\n",
        "p2_hat=sum(g)/float(len(g)) #sample mean of borrower rates when #installments>300\n",
        "d_hat=p1_hat-p2_hat #difference of the means, delta"
      ],
      "execution_count": 0,
      "outputs": []
    },
    {
      "metadata": {
        "id": "Ux28-NkExgFz",
        "colab_type": "code",
        "colab": {}
      },
      "cell_type": "code",
      "source": [
        "se_hat=math.sqrt(np.var(l)/float(len(l))+np.var(g)/float(len(g))) #Standard error"
      ],
      "execution_count": 0,
      "outputs": []
    },
    {
      "metadata": {
        "id": "_7OhWponyxqt",
        "colab_type": "code",
        "colab": {
          "base_uri": "https://localhost:8080/",
          "height": 34
        },
        "outputId": "8d479976-98ba-4c20-88c0-b98423b45dc5"
      },
      "cell_type": "code",
      "source": [
        "d_not=0.0 #true value of the difference of the means\n",
        "W=abs((d_hat-d_not)/se_hat) #Calculating wald's statistic\n",
        "if W>1.96: #Zalpha/2 = 1.96 when alpha=0.05\n",
        "  print(\"Reject Hypothesis\")\n",
        "else:\n",
        "  print(\"Accept Hypothesis\")"
      ],
      "execution_count": 21,
      "outputs": [
        {
          "output_type": "stream",
          "text": [
            "Reject Hypothesis\n"
          ],
          "name": "stdout"
        }
      ]
    },
    {
      "metadata": {
        "id": "EMx5uNx93pKo",
        "colab_type": "code",
        "colab": {
          "base_uri": "https://localhost:8080/",
          "height": 34
        },
        "outputId": "93250c50-3d15-4797-9dee-d84e4dd2788a"
      },
      "cell_type": "code",
      "source": [
        "print(W) #printing wald's statistic"
      ],
      "execution_count": 22,
      "outputs": [
        {
          "output_type": "stream",
          "text": [
            "22.151713465612907\n"
          ],
          "name": "stdout"
        }
      ]
    },
    {
      "metadata": {
        "id": "MxS4iRd734Tm",
        "colab_type": "code",
        "colab": {
          "base_uri": "https://localhost:8080/",
          "height": 51
        },
        "outputId": "79d7426b-3189-4fd2-80b0-348e6ce5f584"
      },
      "cell_type": "code",
      "source": [
        "#printing means\n",
        "print(p1_hat)\n",
        "print(p2_hat)"
      ],
      "execution_count": 15,
      "outputs": [
        {
          "output_type": "stream",
          "text": [
            "0.1372494042603228\n",
            "0.13877051520729747\n"
          ],
          "name": "stdout"
        }
      ]
    },
    {
      "metadata": {
        "id": "3NcZknoI4ck2",
        "colab_type": "code",
        "colab": {
          "base_uri": "https://localhost:8080/",
          "height": 51
        },
        "outputId": "159183e0-c8c5-4e5d-e5b3-50caee5ad3f8"
      },
      "cell_type": "code",
      "source": [
        "#printing delta and standard error\n",
        "print(d_hat)\n",
        "print(se_hat)"
      ],
      "execution_count": 23,
      "outputs": [
        {
          "output_type": "stream",
          "text": [
            "-0.0015211109469746575\n",
            "6.866786848502469e-05\n"
          ],
          "name": "stdout"
        }
      ]
    },
    {
      "metadata": {
        "id": "HTgTK1Y34FKi",
        "colab_type": "text"
      },
      "cell_type": "markdown",
      "source": [
        "**Summary**:\n",
        "We need to test whether the hypothesis that \"Borrower interest rate is higher for #installments less than 300.\" is true. For this we perform the following steps:\n",
        "1. Create two populations of data samples in 2 separate lists. First set l, contains all the borrower rates when #installments<300. Second list g, contains all the borrower rates when #installments>300.\n",
        "2. Now we need to compare the mean of the 2 populations.\n",
        "3. We estimate the mean of the two populations, which will be nothing but the sample mean (saw in class).\n",
        "4. p1_hat denotes the sample mean estimate of the first population(installments <300). p2_hat denotes the sample mean estimate of the second population(installments>300). Then we calculate difference of mean, d_hat as p1_hat - p2_hat\n",
        "5. The true value of difference, d_not will be 0.0 (both the means should be same)\n",
        "6.We calculate the standard error as sqrt(var(l)/n + var(g)/m).\n",
        "7.Then, finally the wald's statistic would be calculated as W=abs((d_hat-d_not)/se_hat). where, d_hat, d_not, and se_hat have been already calculated above.\n",
        "8. We compare W with Zalpha/2(=1.96 when alpha=0.05) and find that it is greater. Hence we reject the hypothesis that \"Borrower interest rate is higher for #installments less than 300\"."
      ]
    }
  ]
}